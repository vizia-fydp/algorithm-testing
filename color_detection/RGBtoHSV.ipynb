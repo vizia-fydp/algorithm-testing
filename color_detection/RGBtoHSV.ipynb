{
 "cells": [
  {
   "cell_type": "code",
   "execution_count": null,
   "id": "31dbb2db",
   "metadata": {},
   "outputs": [],
   "source": [
    "import pandas as pd\n",
    "import cv2\n",
    "import numpy as np"
   ]
  },
  {
   "cell_type": "code",
   "execution_count": null,
   "id": "c265cb34",
   "metadata": {},
   "outputs": [],
   "source": [
    "files = [\"colors_small\", \"colors_medium\", \"colors_large\"]\n",
    "\n",
    "for file in files:\n",
    "    # Prepare output data frame\n",
    "    d = {\"Name\": [], \"Hex\": [], \"R\" : [], \"G\" : [], \"B\" : [], \"H\": [], \"S\": [], \"V\": []}\n",
    "    column_order = [\"Name\", \"Hex\", \"R\", \"G\", \"B\", \"H\", \"S\", \"V\"]\n",
    "    output_df = pd.DataFrame(data = d, columns=column_order)\n",
    "    \n",
    "    # Read input data frame\n",
    "    colors = pd.read_csv(\"{}.csv\".format(file))\n",
    "\n",
    "    for _, row in colors.iterrows():\n",
    "        rgb = np.array([row[\"R\"], row[\"G\"], row[\"B\"]])\n",
    "        \n",
    "        # Note: In OpenCV, Hue is [0, 180], Saturation and Value is [0, 255]\n",
    "        hsv = cv2.cvtColor(np.uint8([[rgb]]), cv2.COLOR_RGB2HSV)[0][0]\n",
    "\n",
    "        output_df = output_df.append(\n",
    "            {\n",
    "                \"Name\" : row[\"Name\"],\n",
    "                \"Hex\": row[\"Hex\"],\n",
    "                \"R\" : int(row[\"R\"]),\n",
    "                \"G\" : int(row[\"G\"]),\n",
    "                \"B\": int(row[\"B\"]),\n",
    "                \"H\": int(hsv[0]),\n",
    "                \"S\": int(hsv[1]),\n",
    "                \"V\": int(hsv[2])\n",
    "            },\n",
    "            ignore_index = True\n",
    "        )\n",
    "\n",
    "#         print(\"rgb: [{}, {}, {}], hsv: [{}, {}, {}]\"\n",
    "#             .format(rgb[0], rgb[1], rgb[2], hsv[0], hsv[1], hsv[2]))\n",
    "\n",
    "    m = (output_df.dtypes=='float')\n",
    "    output_df.loc[:,m] = output_df.loc[:,m].astype(int)\n",
    "    output_df.to_csv(\"{}_with_hsv.csv\".format(file), index=False)"
   ]
  }
 ],
 "metadata": {
  "kernelspec": {
   "display_name": "Python 3 (ipykernel)",
   "language": "python",
   "name": "python3"
  },
  "language_info": {
   "codemirror_mode": {
    "name": "ipython",
    "version": 3
   },
   "file_extension": ".py",
   "mimetype": "text/x-python",
   "name": "python",
   "nbconvert_exporter": "python",
   "pygments_lexer": "ipython3",
   "version": "3.9.7"
  }
 },
 "nbformat": 4,
 "nbformat_minor": 5
}
