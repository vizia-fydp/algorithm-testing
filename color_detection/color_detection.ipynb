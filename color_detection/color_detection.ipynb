{
 "cells": [
  {
   "cell_type": "code",
   "execution_count": null,
   "id": "33f57787",
   "metadata": {},
   "outputs": [],
   "source": [
    "# https://www.rapidtables.com/web/color/RGB_Color.html\n",
    "# https://github.com/codebrainz/color-names/blob/master/output/colors.csv"
   ]
  },
  {
   "cell_type": "code",
   "execution_count": null,
   "id": "2aa9a444",
   "metadata": {},
   "outputs": [],
   "source": [
    "import numpy as np\n",
    "import cv2\n",
    "import os\n",
    "import pandas as pd\n",
    "from matplotlib import pyplot as plt\n",
    "\n",
    "# img = cv2.imread(\"../img/eardrops.jpg\")\n",
    "# img = cv2.imread(\"../img/flowers.jpg\")\n",
    "img = cv2.imread(\"../img/lego.png\")\n",
    "\n",
    "img = cv2.cvtColor(img, cv2.COLOR_BGR2RGB)\n",
    "\n",
    "plt.imshow(img)\n",
    "plt.show()"
   ]
  },
  {
   "cell_type": "code",
   "execution_count": null,
   "id": "4de61013",
   "metadata": {},
   "outputs": [],
   "source": [
    "# K Means clustering\n",
    "\n",
    "# Convert to float32 array of N x 3, where each row is a pixel (R, G, B)\n",
    "pixels = np.float32(img.reshape(-1, 3))\n",
    "\n",
    "K = 3\n",
    "criteria = (cv2.TERM_CRITERIA_EPS + cv2.TERM_CRITERIA_MAX_ITER, 10, 1.0)\n",
    "flags = cv2.KMEANS_RANDOM_CENTERS\n",
    "\n",
    "_, labels, palette = cv2.kmeans(pixels, K, None, criteria, 10, flags)\n",
    "_, counts = np.unique(labels, return_counts=True)\n",
    "\n",
    "average = img.mean(axis=0).mean(axis=0)\n",
    "dominant = palette[np.argmax(counts)]"
   ]
  },
  {
   "cell_type": "code",
   "execution_count": null,
   "id": "5c9c915c",
   "metadata": {},
   "outputs": [],
   "source": [
    "print(average)\n",
    "print()\n",
    "print(dominant)\n",
    "print()\n",
    "print(counts)\n",
    "print()\n",
    "print(palette)"
   ]
  },
  {
   "cell_type": "code",
   "execution_count": null,
   "id": "217bab66",
   "metadata": {},
   "outputs": [],
   "source": [
    "avg_patch = np.ones(shape=img.shape, dtype=np.uint8)*np.uint8(average)\n",
    "\n",
    "indices = np.argsort(counts)[::-1]   \n",
    "freqs = np.cumsum(np.hstack([[0], counts[indices]/float(counts.sum())]))\n",
    "rows = np.int_(img.shape[0]*freqs)\n",
    "\n",
    "dom_patch = np.zeros(shape=img.shape, dtype=np.uint8)\n",
    "for i in range(len(rows) - 1):\n",
    "    dom_patch[rows[i]:rows[i + 1], :, :] += np.uint8(palette[indices[i]])\n",
    "    \n",
    "fig, (ax0, ax1) = plt.subplots(1, 2, figsize=(12,6))\n",
    "ax0.imshow(avg_patch)\n",
    "ax0.set_title('Average color')\n",
    "ax0.axis('off')\n",
    "ax1.imshow(dom_patch)\n",
    "ax1.set_title('Dominant colors')\n",
    "ax1.axis('off')\n",
    "plt.show(fig)"
   ]
  },
  {
   "cell_type": "code",
   "execution_count": null,
   "id": "ed962e8a",
   "metadata": {},
   "outputs": [],
   "source": [
    "# Extract top 3 colors\n",
    "count_to_color = {}\n",
    "for i in range(len(counts)):\n",
    "    count_to_color[counts[i]] = palette[i]\n",
    "# print(count_to_color)\n",
    "\n",
    "colors_sorted = []\n",
    "for key in sorted(count_to_color, reverse=True):\n",
    "    colors_sorted.append(np.array(count_to_color[key]))\n",
    "    print(\"%s: %s\" % (key, count_to_color[key]))\n",
    "print()\n",
    "print(colors_sorted)"
   ]
  },
  {
   "cell_type": "code",
   "execution_count": null,
   "id": "ad254296",
   "metadata": {},
   "outputs": [],
   "source": [
    "# colors = pd.read_csv(\"colors_small.csv\")\n",
    "colors = pd.read_csv(\"colors_medium.csv\")\n",
    "# colors = pd.read_csv(\"colors_large.csv\")\n",
    "color_names = []\n",
    "\n",
    "for color in colors_sorted:\n",
    "    min_dist = np.inf\n",
    "    color_name = \"\"\n",
    "    for _, row in colors.iterrows():\n",
    "        rgb_array = np.array([row[\"R\"], row[\"G\"], row[\"B\"]])\n",
    "\n",
    "        dist = np.linalg.norm(color - rgb_array)\n",
    "        if dist < min_dist:\n",
    "            min_dist = dist\n",
    "            color_name = row[\"Name\"]\n",
    "    color_names.append(color_name)\n",
    "print(color_names)"
   ]
  }
 ],
 "metadata": {
  "kernelspec": {
   "display_name": "Python 3 (ipykernel)",
   "language": "python",
   "name": "python3"
  },
  "language_info": {
   "codemirror_mode": {
    "name": "ipython",
    "version": 3
   },
   "file_extension": ".py",
   "mimetype": "text/x-python",
   "name": "python",
   "nbconvert_exporter": "python",
   "pygments_lexer": "ipython3",
   "version": "3.9.7"
  }
 },
 "nbformat": 4,
 "nbformat_minor": 5
}
